{
 "cells": [
  {
   "cell_type": "code",
   "execution_count": 1,
   "id": "5fa506dd-6d99-48ac-8585-c3bed990c6c2",
   "metadata": {},
   "outputs": [],
   "source": [
    "import pandas as pd\n",
    "import numpy as np\n",
    "import json\n",
    "from constants import BASE_DIR"
   ]
  },
  {
   "cell_type": "code",
   "execution_count": 2,
   "id": "a2f7d304-b8a3-494a-b6ae-10c3486b721d",
   "metadata": {},
   "outputs": [],
   "source": [
    "import pickle\n",
    "\n",
    "def compute_duration(current_df,start_df, freq):\n",
    "    if freq == 'M':\n",
    "        divisor = 12\n",
    "    elif freq == 'W':\n",
    "        divisor = 52\n",
    "\n",
    "    current_df = current_df.values\n",
    "    start_df = start_df.values\n",
    "\n",
    "    \n",
    "    duration = (current_df[0]-start_df[0])/divisor + (current_df[1]-start_df[1])\n",
    "    return np.maximum(duration,0)*divisor\n",
    "\n",
    "def onehot_encoder_match(keys,vals,df,store_df):\n",
    "    match_dict = dict(zip(keys, vals))\n",
    "\n",
    "    df[vals] = 0\n",
    "    val = match_dict[store_df]\n",
    "    df[val] = 1\n",
    "    return df\n",
    "\n",
    "def load_model(fname):\n",
    "    file = open(fname, 'rb')\n",
    "    data = pickle.load(file)\n",
    "    file.close()\n",
    "\n",
    "    return data"
   ]
  },
  {
   "cell_type": "code",
   "execution_count": 3,
   "id": "b964e647-5dd6-40bb-ac4f-ff7d3ffdef0f",
   "metadata": {},
   "outputs": [],
   "source": [
    "post_request = {\n",
    "        \"Store\":1111,\n",
    "        \"DayOfWeek\":4,\n",
    "        \"Date\":\"2014-07-10\",\n",
    "        \"Customers\":410,\n",
    "        \"Open\":1,\n",
    "        \"Promo\":0,\n",
    "        \"StateHoliday\":\"0\",\n",
    "        \"SchoolHoliday\":1\n",
    "    }"
   ]
  },
  {
   "cell_type": "code",
   "execution_count": 4,
   "id": "43755da7-9c0d-4b9c-9ad9-5e302318e631",
   "metadata": {},
   "outputs": [],
   "source": [
    "df = pd.read_csv('../../data/processed_data.csv', nrows=1).drop(['Id','Sales'],axis=1)\n",
    "df_request = pd.Series(index=df.columns)"
   ]
  },
  {
   "cell_type": "code",
   "execution_count": 5,
   "id": "3862a459-f467-407b-be87-97b8c9e6485a",
   "metadata": {},
   "outputs": [
    {
     "data": {
      "text/plain": [
       "Store                          NaN\n",
       "DayOfWeek                      NaN\n",
       "Customers                      NaN\n",
       "Open                           NaN\n",
       "Promo                          NaN\n",
       "SchoolHoliday                  NaN\n",
       "CompetitionDistance            NaN\n",
       "Promo2                         NaN\n",
       "No_Promo                       NaN\n",
       "Jan,Apr,Jul,Oct                NaN\n",
       "Feb,May,Aug,Nov                NaN\n",
       "Mar,Jun,Sept,Dec               NaN\n",
       "Year                           NaN\n",
       "Month                          NaN\n",
       "Week                           NaN\n",
       "CompetitionOpenSinceDuration   NaN\n",
       "Promo2SinceDuration            NaN\n",
       "no_holiday                     NaN\n",
       "public_holiday                 NaN\n",
       "easter_holiday                 NaN\n",
       "christmas                      NaN\n",
       "basic                          NaN\n",
       "extra                          NaN\n",
       "extended                       NaN\n",
       "store_type_a                   NaN\n",
       "store_type_b                   NaN\n",
       "store_type_c                   NaN\n",
       "store_type_d                   NaN\n",
       "dtype: float64"
      ]
     },
     "execution_count": 5,
     "metadata": {},
     "output_type": "execute_result"
    }
   ],
   "source": [
    "df_request"
   ]
  },
  {
   "cell_type": "code",
   "execution_count": 6,
   "id": "b276b7a5-4f8b-4890-8c26-db0b06eeeabd",
   "metadata": {},
   "outputs": [],
   "source": [
    "df_request['Store'] = post_request['Store']\n",
    "df_request['DayOfWeek'] = post_request['DayOfWeek']\n",
    "df_request['Customers'] = post_request['Customers']\n",
    "df_request['Open'] = post_request['Open']\n",
    "df_request['Promo'] = post_request['Promo']\n",
    "df_request['SchoolHoliday'] = post_request['SchoolHoliday']\n",
    "df_request['Date'] = post_request['Date']"
   ]
  },
  {
   "cell_type": "code",
   "execution_count": 7,
   "id": "14d28272-48ef-4d2a-910b-67bc2442f086",
   "metadata": {
    "scrolled": true
   },
   "outputs": [
    {
     "data": {
      "text/plain": [
       "Store                               1111.0\n",
       "DayOfWeek                              4.0\n",
       "Customers                            410.0\n",
       "Open                                   1.0\n",
       "Promo                                  0.0\n",
       "SchoolHoliday                          1.0\n",
       "CompetitionDistance                    NaN\n",
       "Promo2                                 NaN\n",
       "No_Promo                               NaN\n",
       "Jan,Apr,Jul,Oct                        NaN\n",
       "Feb,May,Aug,Nov                        NaN\n",
       "Mar,Jun,Sept,Dec                       NaN\n",
       "Year                                   NaN\n",
       "Month                                  NaN\n",
       "Week                                   NaN\n",
       "CompetitionOpenSinceDuration           NaN\n",
       "Promo2SinceDuration                    NaN\n",
       "no_holiday                             NaN\n",
       "public_holiday                         NaN\n",
       "easter_holiday                         NaN\n",
       "christmas                              NaN\n",
       "basic                                  NaN\n",
       "extra                                  NaN\n",
       "extended                               NaN\n",
       "store_type_a                           NaN\n",
       "store_type_b                           NaN\n",
       "store_type_c                           NaN\n",
       "store_type_d                           NaN\n",
       "Date                            2014-07-10\n",
       "dtype: object"
      ]
     },
     "execution_count": 7,
     "metadata": {},
     "output_type": "execute_result"
    }
   ],
   "source": [
    "df_request"
   ]
  },
  {
   "cell_type": "code",
   "execution_count": 8,
   "id": "e2efe6e7-41b0-47d7-be78-701d9aee8d9a",
   "metadata": {},
   "outputs": [],
   "source": [
    "hol_keys = ['0','a','b','c']\n",
    "hol_vals = ['no_holiday','public_holiday','easter_holiday','christmas']\n",
    "\n",
    "hold_dict = dict(zip(hol_keys,hol_vals))\n",
    "\n",
    "if post_request[\"StateHoliday\"] in hol_keys:\n",
    "    state_holiday = hold_dict[post_request[\"StateHoliday\"]]\n",
    "    df_request[hol_vals] = 0\n",
    "    df_request[state_holiday] = 1\n",
    "\n",
    "else:\n",
    "  raise ValueError(\"State Holiday is invalid !\")\n"
   ]
  },
  {
   "cell_type": "code",
   "execution_count": 9,
   "id": "00aec78a-bfe3-492d-80a9-4614f817dd09",
   "metadata": {},
   "outputs": [
    {
     "data": {
      "text/plain": [
       "Store                                   1111\n",
       "StoreType                                  a\n",
       "Assortment                                 a\n",
       "CompetitionDistance                   1900.0\n",
       "CompetitionOpenSinceMonth                6.0\n",
       "CompetitionOpenSinceYear              2014.0\n",
       "Promo2                                     1\n",
       "Promo2SinceWeek                         31.0\n",
       "Promo2SinceYear                       2013.0\n",
       "PromoInterval                Jan,Apr,Jul,Oct\n",
       "Name: 1110, dtype: object"
      ]
     },
     "execution_count": 9,
     "metadata": {},
     "output_type": "execute_result"
    }
   ],
   "source": [
    "df_store_info = pd.read_csv(\"../../data/raw/store.csv\").drop_duplicates()\n",
    "store_vals =  df_store_info[df_store_info['Store'] == df_request['Store']].squeeze()\n",
    "store_vals"
   ]
  },
  {
   "cell_type": "code",
   "execution_count": 10,
   "id": "269e48f0-750b-48c1-b80a-f82a473438e4",
   "metadata": {},
   "outputs": [],
   "source": [
    "df_request['CompetitionDistance'] = store_vals['CompetitionDistance']\n",
    "df_request['Promo2'] = store_vals['Promo2']"
   ]
  },
  {
   "cell_type": "code",
   "execution_count": 11,
   "id": "61f70a28-5ba4-40e8-8172-b7d8adc8a4ab",
   "metadata": {},
   "outputs": [],
   "source": [
    "promo_interval_list = ['No_Promo', 'Jan,Apr,Jul,Oct', 'Feb,May,Aug,Nov', 'Mar,Jun,Sept,Dec']\n",
    "df_request[promo_interval_list] = 0\n",
    "df_request[store_vals['PromoInterval']] = 1"
   ]
  },
  {
   "cell_type": "code",
   "execution_count": 12,
   "id": "b68a78a4-0957-417d-9c2c-64b6362a031e",
   "metadata": {},
   "outputs": [
    {
     "data": {
      "text/plain": [
       "Store                           1111.0\n",
       "DayOfWeek                          4.0\n",
       "Customers                        410.0\n",
       "Open                               1.0\n",
       "Promo                              0.0\n",
       "SchoolHoliday                      1.0\n",
       "CompetitionDistance             1900.0\n",
       "Promo2                               1\n",
       "No_Promo                             0\n",
       "Jan,Apr,Jul,Oct                      1\n",
       "Feb,May,Aug,Nov                      0\n",
       "Mar,Jun,Sept,Dec                     0\n",
       "Year                              2014\n",
       "Month                                7\n",
       "Week                                28\n",
       "CompetitionOpenSinceDuration       NaN\n",
       "Promo2SinceDuration                NaN\n",
       "no_holiday                           1\n",
       "public_holiday                       0\n",
       "easter_holiday                       0\n",
       "christmas                            0\n",
       "basic                              NaN\n",
       "extra                              NaN\n",
       "extended                           NaN\n",
       "store_type_a                       NaN\n",
       "store_type_b                       NaN\n",
       "store_type_c                       NaN\n",
       "store_type_d                       NaN\n",
       "dtype: object"
      ]
     },
     "execution_count": 12,
     "metadata": {},
     "output_type": "execute_result"
    }
   ],
   "source": [
    "df_request['Date'] = pd.Period(df_request['Date'])\n",
    "df_request['Year'] = df_request['Date'].year\n",
    "df_request['Month'] = df_request['Date'].month\n",
    "df_request['Week'] = df_request['Date'].week\n",
    "df_request = df_request.drop('Date')\n",
    "df_request"
   ]
  },
  {
   "cell_type": "code",
   "execution_count": 13,
   "id": "476c8a17-d00d-4396-9c59-3e714f97cc5e",
   "metadata": {},
   "outputs": [],
   "source": [
    "date_str = ['Month','Year']\n",
    "com_open_str = ['CompetitionOpenSinceMonth','CompetitionOpenSinceYear']\n",
    "df_request['CompetitionOpenSinceDuration'] = compute_duration(df_request[date_str],store_vals[com_open_str], 'M')"
   ]
  },
  {
   "cell_type": "code",
   "execution_count": 14,
   "id": "25fc346c-d272-4669-881a-985acc8a0045",
   "metadata": {},
   "outputs": [],
   "source": [
    "week_str = ['Week','Year']\n",
    "promo2_str = ['Promo2SinceWeek','Promo2SinceYear']\n",
    "df_request['Promo2SinceDuration'] = compute_duration(df_request[week_str],store_vals[promo2_str], 'W')"
   ]
  },
  {
   "cell_type": "code",
   "execution_count": 15,
   "id": "8550eee5-92a2-4e74-b167-4007798783d8",
   "metadata": {},
   "outputs": [],
   "source": [
    "assort_keys = ['a','b','c']\n",
    "assort_vals = ['basic','extra','extended']\n",
    "\n",
    "df_request = onehot_encoder_match(assort_keys,assort_vals,df_request,store_vals['Assortment'])"
   ]
  },
  {
   "cell_type": "code",
   "execution_count": 16,
   "id": "00ac5742-6750-4928-b3cb-ff68c31f5359",
   "metadata": {},
   "outputs": [],
   "source": [
    "storetype_keys = ['a','b','c','d']\n",
    "storetype_vals = ['store_type_a', 'store_type_b', 'store_type_c', 'store_type_d']\n",
    "\n",
    "df_request = onehot_encoder_match(storetype_keys,storetype_vals,df_request,store_vals['StoreType'])"
   ]
  },
  {
   "cell_type": "code",
   "execution_count": 17,
   "id": "f1f24536-cb97-4345-9e1d-f3cad7d9793c",
   "metadata": {},
   "outputs": [
    {
     "data": {
      "text/plain": [
       "Store                           1111.0\n",
       "DayOfWeek                          4.0\n",
       "Customers                        410.0\n",
       "Open                               1.0\n",
       "Promo                              0.0\n",
       "SchoolHoliday                      1.0\n",
       "CompetitionDistance             1900.0\n",
       "Promo2                               1\n",
       "No_Promo                             0\n",
       "Jan,Apr,Jul,Oct                      1\n",
       "Feb,May,Aug,Nov                      0\n",
       "Mar,Jun,Sept,Dec                     0\n",
       "Year                              2014\n",
       "Month                                7\n",
       "Week                                28\n",
       "CompetitionOpenSinceDuration       1.0\n",
       "Promo2SinceDuration               49.0\n",
       "no_holiday                           1\n",
       "public_holiday                       0\n",
       "easter_holiday                       0\n",
       "christmas                            0\n",
       "basic                                1\n",
       "extra                                0\n",
       "extended                             0\n",
       "store_type_a                         1\n",
       "store_type_b                         0\n",
       "store_type_c                         0\n",
       "store_type_d                         0\n",
       "dtype: object"
      ]
     },
     "execution_count": 17,
     "metadata": {},
     "output_type": "execute_result"
    }
   ],
   "source": [
    "df_request"
   ]
  },
  {
   "cell_type": "code",
   "execution_count": 18,
   "id": "1e0ed1d1-dec6-4417-ad07-459bc6b192fd",
   "metadata": {},
   "outputs": [],
   "source": [
    "X_test_tr = df_request.copy()"
   ]
  },
  {
   "cell_type": "code",
   "execution_count": 19,
   "id": "070e0725-3c4f-42e6-96ce-90742ba075b1",
   "metadata": {},
   "outputs": [],
   "source": [
    "minmax_str = ['Store','Year',\"Week\",\"Month\", \"DayOfWeek\"]\n",
    "scaler = load_model(BASE_DIR / 'models' / 'transform_minmax.pkl')\n",
    "X_test_tr.loc[minmax_str] = scaler.transform(df_request[minmax_str].to_frame().T)[0]"
   ]
  },
  {
   "cell_type": "code",
   "execution_count": 20,
   "id": "783d2e2d-964b-41fe-a15d-012a3690cd40",
   "metadata": {},
   "outputs": [
    {
     "data": {
      "text/plain": [
       "Store        0.996409\n",
       "Year              0.5\n",
       "Week         0.529412\n",
       "Month        0.545455\n",
       "DayOfWeek         0.5\n",
       "dtype: object"
      ]
     },
     "execution_count": 20,
     "metadata": {},
     "output_type": "execute_result"
    }
   ],
   "source": [
    "X_test_tr.loc[minmax_str]"
   ]
  },
  {
   "cell_type": "code",
   "execution_count": 21,
   "id": "20de6044-6329-4700-87ed-4ef24eaecbc6",
   "metadata": {},
   "outputs": [],
   "source": [
    "std_str = ['Customers', 'CompetitionDistance', 'CompetitionOpenSinceDuration', 'Promo2SinceDuration']\n",
    "\n",
    "scaler_std = load_model(BASE_DIR / 'models' / 'transform_std.pkl', )\n",
    "X_test_tr.loc[std_str] = scaler_std.transform(df_request[std_str].to_frame().T)[0]"
   ]
  },
  {
   "cell_type": "code",
   "execution_count": 22,
   "id": "91ba517f-66fc-448c-b8db-5a722dccbb42",
   "metadata": {},
   "outputs": [
    {
     "data": {
      "text/plain": [
       "Customers                      -0.483072\n",
       "CompetitionDistance            -0.456466\n",
       "CompetitionOpenSinceDuration   -0.619428\n",
       "Promo2SinceDuration            -0.055918\n",
       "dtype: object"
      ]
     },
     "execution_count": 22,
     "metadata": {},
     "output_type": "execute_result"
    }
   ],
   "source": [
    "X_test_tr.loc[std_str]"
   ]
  },
  {
   "cell_type": "code",
   "execution_count": 23,
   "id": "ab550bb3-dbdb-4448-9687-9f902739989b",
   "metadata": {},
   "outputs": [],
   "source": [
    "tuned_model = load_model(BASE_DIR / 'models' / 'tuned_model.pkl')"
   ]
  },
  {
   "cell_type": "code",
   "execution_count": 24,
   "id": "db3470f3-51bd-4821-9bf2-29cb41eb1643",
   "metadata": {},
   "outputs": [
    {
     "data": {
      "text/plain": [
       "array([3589.85854654])"
      ]
     },
     "execution_count": 24,
     "metadata": {},
     "output_type": "execute_result"
    }
   ],
   "source": [
    "tuned_model.predict(X_test_tr.to_frame().T)"
   ]
  }
 ],
 "metadata": {
  "kernelspec": {
   "display_name": "Python 3 (ipykernel)",
   "language": "python",
   "name": "python3"
  },
  "language_info": {
   "codemirror_mode": {
    "name": "ipython",
    "version": 3
   },
   "file_extension": ".py",
   "mimetype": "text/x-python",
   "name": "python",
   "nbconvert_exporter": "python",
   "pygments_lexer": "ipython3",
   "version": "3.9.10"
  }
 },
 "nbformat": 4,
 "nbformat_minor": 5
}
